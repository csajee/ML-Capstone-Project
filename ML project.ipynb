{
 "cells": [
  {
   "cell_type": "code",
   "execution_count": 1,
   "id": "a59400b4",
   "metadata": {
    "_cell_guid": "b1076dfc-b9ad-4769-8c92-a6c4dae69d19",
    "_uuid": "8f2839f25d086af736a60e9eeb907d3b93b6e0e5",
    "execution": {
     "iopub.execute_input": "2023-04-02T14:49:58.382190Z",
     "iopub.status.busy": "2023-04-02T14:49:58.381755Z",
     "iopub.status.idle": "2023-04-02T14:49:58.400869Z",
     "shell.execute_reply": "2023-04-02T14:49:58.398816Z"
    },
    "papermill": {
     "duration": 0.035123,
     "end_time": "2023-04-02T14:49:58.405185",
     "exception": false,
     "start_time": "2023-04-02T14:49:58.370062",
     "status": "completed"
    },
    "tags": []
   },
   "outputs": [
    {
     "name": "stdout",
     "output_type": "stream",
     "text": [
      "/kaggle/input/e-commerce-shoppers-behaviour-understanding/test_data_v2.csv\n",
      "/kaggle/input/e-commerce-shoppers-behaviour-understanding/train_data_v2.csv\n",
      "/kaggle/input/e-commerce-shoppers-behaviour-understanding/sample.csv\n"
     ]
    }
   ],
   "source": [
    "# This Python 3 environment comes with many helpful analytics libraries installed\n",
    "# It is defined by the kaggle/python Docker image: https://github.com/kaggle/docker-python\n",
    "# For example, here's several helpful packages to load\n",
    "\n",
    "import numpy as np # linear algebra\n",
    "import pandas as pd # data processing, CSV file I/O (e.g. pd.read_csv)\n",
    "\n",
    "# Input data files are available in the read-only \"../input/\" directory\n",
    "# For example, running this (by clicking run or pressing Shift+Enter) will list all files under the input directory\n",
    "\n",
    "import os\n",
    "for dirname, _, filenames in os.walk('/kaggle/input'):\n",
    "    for filename in filenames:\n",
    "        print(os.path.join(dirname, filename))\n",
    "\n",
    "# You can write up to 20GB to the current directory (/kaggle/working/) that gets preserved as output when you create a version using \"Save & Run All\" \n",
    "# You can also write temporary files to /kaggle/temp/, but they won't be saved outside of the current session"
   ]
  },
  {
   "cell_type": "code",
   "execution_count": 2,
   "id": "815fafac",
   "metadata": {
    "execution": {
     "iopub.execute_input": "2023-04-02T14:49:58.425099Z",
     "iopub.status.busy": "2023-04-02T14:49:58.424636Z",
     "iopub.status.idle": "2023-04-02T14:49:59.731656Z",
     "shell.execute_reply": "2023-04-02T14:49:59.730205Z"
    },
    "papermill": {
     "duration": 1.320595,
     "end_time": "2023-04-02T14:49:59.735118",
     "exception": false,
     "start_time": "2023-04-02T14:49:58.414523",
     "status": "completed"
    },
    "tags": []
   },
   "outputs": [],
   "source": [
    "# important imports\n",
    "import matplotlib.pyplot as plt\n",
    "import seaborn as sns"
   ]
  },
  {
   "cell_type": "code",
   "execution_count": 3,
   "id": "2ccc1c27",
   "metadata": {
    "execution": {
     "iopub.execute_input": "2023-04-02T14:49:59.753961Z",
     "iopub.status.busy": "2023-04-02T14:49:59.753202Z",
     "iopub.status.idle": "2023-04-02T14:49:59.891870Z",
     "shell.execute_reply": "2023-04-02T14:49:59.890776Z"
    },
    "papermill": {
     "duration": 0.152391,
     "end_time": "2023-04-02T14:49:59.895822",
     "exception": false,
     "start_time": "2023-04-02T14:49:59.743431",
     "status": "completed"
    },
    "tags": []
   },
   "outputs": [],
   "source": [
    "test_data = pd.read_csv('/kaggle/input/e-commerce-shoppers-behaviour-understanding/test_data_v2.csv')\n",
    "train_data = pd.read_csv('/kaggle/input/e-commerce-shoppers-behaviour-understanding/train_data_v2.csv')"
   ]
  },
  {
   "cell_type": "code",
   "execution_count": 4,
   "id": "deb3cdcc",
   "metadata": {
    "execution": {
     "iopub.execute_input": "2023-04-02T14:49:59.915543Z",
     "iopub.status.busy": "2023-04-02T14:49:59.914652Z",
     "iopub.status.idle": "2023-04-02T14:49:59.933285Z",
     "shell.execute_reply": "2023-04-02T14:49:59.931806Z"
    },
    "papermill": {
     "duration": 0.031868,
     "end_time": "2023-04-02T14:49:59.936446",
     "exception": false,
     "start_time": "2023-04-02T14:49:59.904578",
     "status": "completed"
    },
    "tags": []
   },
   "outputs": [],
   "source": [
    "train_features = train_data.drop('Made_Purchase', axis=1)\n",
    "train_labels = train_data['Made_Purchase']"
   ]
  },
  {
   "cell_type": "code",
   "execution_count": 5,
   "id": "774c9c77",
   "metadata": {
    "execution": {
     "iopub.execute_input": "2023-04-02T14:49:59.956110Z",
     "iopub.status.busy": "2023-04-02T14:49:59.954773Z",
     "iopub.status.idle": "2023-04-02T14:49:59.988240Z",
     "shell.execute_reply": "2023-04-02T14:49:59.987199Z"
    },
    "papermill": {
     "duration": 0.0462,
     "end_time": "2023-04-02T14:49:59.991189",
     "exception": false,
     "start_time": "2023-04-02T14:49:59.944989",
     "status": "completed"
    },
    "tags": []
   },
   "outputs": [],
   "source": [
    "from tabulate import tabulate\n",
    "col = train_features.columns # saves column names in an array\n",
    "\n",
    "def check_nan(df1, df2, columns):\n",
    "  data = []\n",
    "  for i in columns:\n",
    "    data.append([i, df1[i].isnull().sum(), df2[i].isnull().sum(), df1[i].dtype])\n",
    "  print(tabulate(data, headers=[\"Columns\", \"NullRows_train\", \"NullRows_test\", \"DataType\"]))"
   ]
  },
  {
   "cell_type": "code",
   "execution_count": 6,
   "id": "fa0f0362",
   "metadata": {
    "execution": {
     "iopub.execute_input": "2023-04-02T14:50:00.010645Z",
     "iopub.status.busy": "2023-04-02T14:50:00.009934Z",
     "iopub.status.idle": "2023-04-02T14:50:00.038535Z",
     "shell.execute_reply": "2023-04-02T14:50:00.036560Z"
    },
    "papermill": {
     "duration": 0.042117,
     "end_time": "2023-04-02T14:50:00.041674",
     "exception": false,
     "start_time": "2023-04-02T14:49:59.999557",
     "status": "completed"
    },
    "tags": []
   },
   "outputs": [
    {
     "name": "stdout",
     "output_type": "stream",
     "text": [
      "Columns                            NullRows_train    NullRows_test  DataType\n",
      "-------------------------------  ----------------  ---------------  ----------\n",
      "HomePage                                      153               51  float64\n",
      "HomePage_Duration                             150               55  float64\n",
      "LandingPage                                   153               56  float64\n",
      "LandingPage_Duration                          135               75  float64\n",
      "ProductDescriptionPage                        123               58  float64\n",
      "ProductDescriptionPage_Duration               167               63  float64\n",
      "GoogleMetric:Bounce Rates                     151               66  float64\n",
      "GoogleMetric:Exit Rates                       129               51  float64\n",
      "GoogleMetric:Page Values                      132               45  float64\n",
      "SeasonalPurchase                              150               45  float64\n",
      "Month_SeasonalPurchase                        144               58  object\n",
      "OS                                            134               62  float64\n",
      "SearchEngine                                  122               58  float64\n",
      "Zone                                          117               47  float64\n",
      "Type of Traffic                               143               68  float64\n",
      "CustomerType                                  144               88  object\n",
      "Gender                                        145               64  object\n",
      "Cookies Setting                               144               62  object\n",
      "Education                                     136               69  object\n",
      "Marital Status                                130               47  object\n",
      "WeekendPurchase                               121               58  float64\n"
     ]
    }
   ],
   "source": [
    "# computing null rows and datatype\n",
    "check_nan(train_data, test_data, col)"
   ]
  },
  {
   "cell_type": "markdown",
   "id": "c2d4ff80",
   "metadata": {
    "papermill": {
     "duration": 0.007931,
     "end_time": "2023-04-02T14:50:00.058828",
     "exception": false,
     "start_time": "2023-04-02T14:50:00.050897",
     "status": "completed"
    },
    "tags": []
   },
   "source": [
    "# Data Preprocessing"
   ]
  },
  {
   "cell_type": "code",
   "execution_count": 7,
   "id": "6d5fdb2b",
   "metadata": {
    "execution": {
     "iopub.execute_input": "2023-04-02T14:50:00.079663Z",
     "iopub.status.busy": "2023-04-02T14:50:00.078847Z",
     "iopub.status.idle": "2023-04-02T14:50:00.097207Z",
     "shell.execute_reply": "2023-04-02T14:50:00.096015Z"
    },
    "papermill": {
     "duration": 0.031987,
     "end_time": "2023-04-02T14:50:00.100283",
     "exception": false,
     "start_time": "2023-04-02T14:50:00.068296",
     "status": "completed"
    },
    "tags": []
   },
   "outputs": [],
   "source": [
    "# gives the column numbers for numerical and categorical data\n",
    "num_idx = train_features.columns.get_indexer(train_features.select_dtypes(['int64','float64']).columns)\n",
    "cat_idx = train_features.columns.get_indexer(train_features.select_dtypes('object').columns)"
   ]
  },
  {
   "cell_type": "code",
   "execution_count": 8,
   "id": "7b031022",
   "metadata": {
    "execution": {
     "iopub.execute_input": "2023-04-02T14:50:00.120747Z",
     "iopub.status.busy": "2023-04-02T14:50:00.119237Z",
     "iopub.status.idle": "2023-04-02T14:50:00.132579Z",
     "shell.execute_reply": "2023-04-02T14:50:00.131006Z"
    },
    "papermill": {
     "duration": 0.027207,
     "end_time": "2023-04-02T14:50:00.136330",
     "exception": false,
     "start_time": "2023-04-02T14:50:00.109123",
     "status": "completed"
    },
    "tags": []
   },
   "outputs": [
    {
     "data": {
      "text/plain": [
       "Index(['HomePage', 'HomePage_Duration', 'LandingPage', 'LandingPage_Duration',\n",
       "       'ProductDescriptionPage', 'ProductDescriptionPage_Duration',\n",
       "       'GoogleMetric:Bounce Rates', 'GoogleMetric:Exit Rates',\n",
       "       'GoogleMetric:Page Values', 'SeasonalPurchase', 'OS', 'SearchEngine',\n",
       "       'Zone', 'Type of Traffic', 'WeekendPurchase'],\n",
       "      dtype='object')"
      ]
     },
     "execution_count": 8,
     "metadata": {},
     "output_type": "execute_result"
    }
   ],
   "source": [
    "num_cols = train_features.select_dtypes(['int64','float64']).columns\n",
    "num_cols"
   ]
  },
  {
   "cell_type": "code",
   "execution_count": 9,
   "id": "66f5bfc0",
   "metadata": {
    "execution": {
     "iopub.execute_input": "2023-04-02T14:50:00.157255Z",
     "iopub.status.busy": "2023-04-02T14:50:00.156367Z",
     "iopub.status.idle": "2023-04-02T14:50:00.169050Z",
     "shell.execute_reply": "2023-04-02T14:50:00.167291Z"
    },
    "papermill": {
     "duration": 0.026001,
     "end_time": "2023-04-02T14:50:00.171863",
     "exception": false,
     "start_time": "2023-04-02T14:50:00.145862",
     "status": "completed"
    },
    "tags": []
   },
   "outputs": [
    {
     "data": {
      "text/plain": [
       "(14731, 15)"
      ]
     },
     "execution_count": 9,
     "metadata": {},
     "output_type": "execute_result"
    }
   ],
   "source": [
    "# returns an pandas dataframe of columns with numerical data\n",
    "num_train = train_features[col[num_idx]]\n",
    "num_test = test_data[col[num_idx]]\n",
    "num_train.shape"
   ]
  },
  {
   "cell_type": "code",
   "execution_count": 10,
   "id": "fe3dfac1",
   "metadata": {
    "execution": {
     "iopub.execute_input": "2023-04-02T14:50:00.192275Z",
     "iopub.status.busy": "2023-04-02T14:50:00.191118Z",
     "iopub.status.idle": "2023-04-02T14:50:00.203073Z",
     "shell.execute_reply": "2023-04-02T14:50:00.202008Z"
    },
    "papermill": {
     "duration": 0.025063,
     "end_time": "2023-04-02T14:50:00.205882",
     "exception": false,
     "start_time": "2023-04-02T14:50:00.180819",
     "status": "completed"
    },
    "tags": []
   },
   "outputs": [
    {
     "data": {
      "text/plain": [
       "(14731, 6)"
      ]
     },
     "execution_count": 10,
     "metadata": {},
     "output_type": "execute_result"
    }
   ],
   "source": [
    "# returns an pandas dataframe of columns with categorical data\n",
    "cat_train = train_features[col[cat_idx]]\n",
    "cat_test = test_data[col[cat_idx]]\n",
    "cat_train.shape"
   ]
  },
  {
   "cell_type": "code",
   "execution_count": 11,
   "id": "932dea63",
   "metadata": {
    "execution": {
     "iopub.execute_input": "2023-04-02T14:50:00.226173Z",
     "iopub.status.busy": "2023-04-02T14:50:00.225128Z",
     "iopub.status.idle": "2023-04-02T14:50:00.231976Z",
     "shell.execute_reply": "2023-04-02T14:50:00.230783Z"
    },
    "papermill": {
     "duration": 0.020637,
     "end_time": "2023-04-02T14:50:00.235073",
     "exception": false,
     "start_time": "2023-04-02T14:50:00.214436",
     "status": "completed"
    },
    "tags": []
   },
   "outputs": [],
   "source": [
    "# num_train['TotalPageVisits'] = num_train['HomePage'] + num_train['LandingPage'] + num_train['ProductDescriptionPage']\n",
    "# num_train['TotalTimeOnWebsite'] = num_train['HomePage_Duration'] + num_train['LandingPage_Duration'] + num_train['ProductDescriptionPage_Duration']\n",
    "# num_train['BounceAndExitRate'] = num_train['GoogleMetric:Bounce Rates'] + num_train['GoogleMetric:Exit Rates']\n",
    "# num_train['PurchaseFrequency'] = num_train['TotalPageVisits'] / num_train['SeasonalPurchase']\n",
    "# num_train['SeasonalPurchaseBinary'] = num_train['SeasonalPurchase'].apply(lambda x: 1 if x > 0 else 0)"
   ]
  },
  {
   "cell_type": "code",
   "execution_count": 12,
   "id": "81224561",
   "metadata": {
    "execution": {
     "iopub.execute_input": "2023-04-02T14:50:00.256066Z",
     "iopub.status.busy": "2023-04-02T14:50:00.255049Z",
     "iopub.status.idle": "2023-04-02T14:50:00.728520Z",
     "shell.execute_reply": "2023-04-02T14:50:00.727183Z"
    },
    "papermill": {
     "duration": 0.48752,
     "end_time": "2023-04-02T14:50:00.731846",
     "exception": false,
     "start_time": "2023-04-02T14:50:00.244326",
     "status": "completed"
    },
    "tags": []
   },
   "outputs": [],
   "source": [
    "# sklearn imports\n",
    "\n",
    "from sklearn.impute import SimpleImputer,KNNImputer\n",
    "from sklearn.preprocessing import OrdinalEncoder, OneHotEncoder, StandardScaler, Normalizer, MinMaxScaler, PowerTransformer\n",
    "from sklearn.pipeline import Pipeline\n",
    "from sklearn.decomposition import PCA"
   ]
  },
  {
   "cell_type": "code",
   "execution_count": 13,
   "id": "f0ec7549",
   "metadata": {
    "execution": {
     "iopub.execute_input": "2023-04-02T14:50:00.752380Z",
     "iopub.status.busy": "2023-04-02T14:50:00.751613Z",
     "iopub.status.idle": "2023-04-02T14:50:00.758286Z",
     "shell.execute_reply": "2023-04-02T14:50:00.757128Z"
    },
    "papermill": {
     "duration": 0.019947,
     "end_time": "2023-04-02T14:50:00.761056",
     "exception": false,
     "start_time": "2023-04-02T14:50:00.741109",
     "status": "completed"
    },
    "tags": []
   },
   "outputs": [],
   "source": [
    "# a pipeline to convert categorical data into numerical data\n",
    "cat_pipe = Pipeline([('impute', SimpleImputer(strategy = 'most_frequent')),\n",
    "                     ('encode', OneHotEncoder(handle_unknown='ignore'))])"
   ]
  },
  {
   "cell_type": "code",
   "execution_count": 14,
   "id": "8ac23a94",
   "metadata": {
    "execution": {
     "iopub.execute_input": "2023-04-02T14:50:00.781973Z",
     "iopub.status.busy": "2023-04-02T14:50:00.781098Z",
     "iopub.status.idle": "2023-04-02T14:50:00.850348Z",
     "shell.execute_reply": "2023-04-02T14:50:00.849078Z"
    },
    "papermill": {
     "duration": 0.083257,
     "end_time": "2023-04-02T14:50:00.853367",
     "exception": false,
     "start_time": "2023-04-02T14:50:00.770110",
     "status": "completed"
    },
    "tags": []
   },
   "outputs": [],
   "source": [
    "# applying pipeline to the train and test data\n",
    "cat_trans_train = cat_pipe.fit_transform(cat_train)\n",
    "cat_trans_test = cat_pipe.transform(cat_test)"
   ]
  },
  {
   "cell_type": "code",
   "execution_count": 15,
   "id": "9d409a7e",
   "metadata": {
    "execution": {
     "iopub.execute_input": "2023-04-02T14:50:00.873666Z",
     "iopub.status.busy": "2023-04-02T14:50:00.872901Z",
     "iopub.status.idle": "2023-04-02T14:50:00.878914Z",
     "shell.execute_reply": "2023-04-02T14:50:00.877875Z"
    },
    "papermill": {
     "duration": 0.019159,
     "end_time": "2023-04-02T14:50:00.881560",
     "exception": false,
     "start_time": "2023-04-02T14:50:00.862401",
     "status": "completed"
    },
    "tags": []
   },
   "outputs": [],
   "source": [
    "num_pipe = Pipeline([('impute', KNNImputer(n_neighbors=10, missing_values=np.nan)),\n",
    "                     ('scaler', PowerTransformer())])"
   ]
  },
  {
   "cell_type": "code",
   "execution_count": 16,
   "id": "3263536b",
   "metadata": {
    "execution": {
     "iopub.execute_input": "2023-04-02T14:50:00.902452Z",
     "iopub.status.busy": "2023-04-02T14:50:00.901506Z",
     "iopub.status.idle": "2023-04-02T14:50:04.815024Z",
     "shell.execute_reply": "2023-04-02T14:50:04.813448Z"
    },
    "papermill": {
     "duration": 3.927991,
     "end_time": "2023-04-02T14:50:04.818447",
     "exception": false,
     "start_time": "2023-04-02T14:50:00.890456",
     "status": "completed"
    },
    "tags": []
   },
   "outputs": [],
   "source": [
    "# applying pipeline to the train and test data\n",
    "num_trans_train = num_pipe.fit_transform(num_train)\n",
    "num_trans_test = num_pipe.transform(num_test)"
   ]
  },
  {
   "cell_type": "code",
   "execution_count": 17,
   "id": "2f6d91fb",
   "metadata": {
    "execution": {
     "iopub.execute_input": "2023-04-02T14:50:04.838730Z",
     "iopub.status.busy": "2023-04-02T14:50:04.837960Z",
     "iopub.status.idle": "2023-04-02T14:50:04.887478Z",
     "shell.execute_reply": "2023-04-02T14:50:04.885625Z"
    },
    "papermill": {
     "duration": 0.065439,
     "end_time": "2023-04-02T14:50:04.892737",
     "exception": false,
     "start_time": "2023-04-02T14:50:04.827298",
     "status": "completed"
    },
    "tags": []
   },
   "outputs": [],
   "source": [
    "pca = PCA()\n",
    "pca.fit(num_trans_train)\n",
    "\n",
    "# determine the number of components to cover up to 99% of the variance\n",
    "n_components = np.argmax(np.cumsum(pca.explained_variance_ratio_) >= 0.99) + 1\n",
    "pca = PCA(n_components=n_components)\n",
    "\n",
    "num_trans_train = pca.fit_transform(num_trans_train)\n",
    "num_trans_test = pca.transform(num_trans_test)"
   ]
  },
  {
   "cell_type": "code",
   "execution_count": 18,
   "id": "471014ed",
   "metadata": {
    "execution": {
     "iopub.execute_input": "2023-04-02T14:50:04.941258Z",
     "iopub.status.busy": "2023-04-02T14:50:04.940373Z",
     "iopub.status.idle": "2023-04-02T14:50:04.959529Z",
     "shell.execute_reply": "2023-04-02T14:50:04.957554Z"
    },
    "papermill": {
     "duration": 0.049116,
     "end_time": "2023-04-02T14:50:04.964803",
     "exception": false,
     "start_time": "2023-04-02T14:50:04.915687",
     "status": "completed"
    },
    "tags": []
   },
   "outputs": [
    {
     "data": {
      "text/plain": [
       "(numpy.ndarray, numpy.ndarray)"
      ]
     },
     "execution_count": 18,
     "metadata": {},
     "output_type": "execute_result"
    }
   ],
   "source": [
    "cat_trans_train = cat_trans_train.toarray() # converts sparse matrix to numpy array\n",
    "cat_trans_test = cat_trans_test.toarray()\n",
    "type(cat_trans_test), type(num_trans_train)"
   ]
  },
  {
   "cell_type": "code",
   "execution_count": 19,
   "id": "b0783ac4",
   "metadata": {
    "execution": {
     "iopub.execute_input": "2023-04-02T14:50:05.009073Z",
     "iopub.status.busy": "2023-04-02T14:50:05.008578Z",
     "iopub.status.idle": "2023-04-02T14:50:05.016215Z",
     "shell.execute_reply": "2023-04-02T14:50:05.015106Z"
    },
    "papermill": {
     "duration": 0.031955,
     "end_time": "2023-04-02T14:50:05.018872",
     "exception": false,
     "start_time": "2023-04-02T14:50:04.986917",
     "status": "completed"
    },
    "tags": []
   },
   "outputs": [
    {
     "data": {
      "text/plain": [
       "((14731, 13), (14731, 26))"
      ]
     },
     "execution_count": 19,
     "metadata": {},
     "output_type": "execute_result"
    }
   ],
   "source": [
    "num_trans_train.shape, cat_trans_train.shape"
   ]
  },
  {
   "cell_type": "code",
   "execution_count": 20,
   "id": "7d2123fa",
   "metadata": {
    "execution": {
     "iopub.execute_input": "2023-04-02T14:50:05.039204Z",
     "iopub.status.busy": "2023-04-02T14:50:05.038279Z",
     "iopub.status.idle": "2023-04-02T14:50:05.048702Z",
     "shell.execute_reply": "2023-04-02T14:50:05.046968Z"
    },
    "papermill": {
     "duration": 0.024106,
     "end_time": "2023-04-02T14:50:05.051921",
     "exception": false,
     "start_time": "2023-04-02T14:50:05.027815",
     "status": "completed"
    },
    "tags": []
   },
   "outputs": [],
   "source": [
    "# contains the preprocessed data\n",
    "traindata_trans = np.concatenate((num_trans_train, cat_trans_train), axis=1)\n",
    "testdata_trans = np.concatenate((num_trans_test, cat_trans_test), axis=1)"
   ]
  },
  {
   "cell_type": "markdown",
   "id": "081d0df8",
   "metadata": {
    "papermill": {
     "duration": 0.00876,
     "end_time": "2023-04-02T14:50:05.070093",
     "exception": false,
     "start_time": "2023-04-02T14:50:05.061333",
     "status": "completed"
    },
    "tags": []
   },
   "source": [
    "# The Dummy Classifier"
   ]
  },
  {
   "cell_type": "code",
   "execution_count": 21,
   "id": "acb063be",
   "metadata": {
    "execution": {
     "iopub.execute_input": "2023-04-02T14:50:05.091747Z",
     "iopub.status.busy": "2023-04-02T14:50:05.091238Z",
     "iopub.status.idle": "2023-04-02T14:50:05.099189Z",
     "shell.execute_reply": "2023-04-02T14:50:05.097843Z"
    },
    "papermill": {
     "duration": 0.022249,
     "end_time": "2023-04-02T14:50:05.101995",
     "exception": false,
     "start_time": "2023-04-02T14:50:05.079746",
     "status": "completed"
    },
    "tags": []
   },
   "outputs": [
    {
     "data": {
      "text/plain": [
       "'\\nfrom sklearn.dummy import DummyClassifier\\ndummy_clf = DummyClassifier(strategy=\"most_frequent\")\\ndummy_clf.fit(train_features, train_labels)\\n'"
      ]
     },
     "execution_count": 21,
     "metadata": {},
     "output_type": "execute_result"
    }
   ],
   "source": [
    "\"\"\"\n",
    "from sklearn.dummy import DummyClassifier\n",
    "dummy_clf = DummyClassifier(strategy=\"most_frequent\")\n",
    "dummy_clf.fit(train_features, train_labels)\n",
    "\"\"\""
   ]
  },
  {
   "cell_type": "code",
   "execution_count": 22,
   "id": "10b856ca",
   "metadata": {
    "execution": {
     "iopub.execute_input": "2023-04-02T14:50:05.123012Z",
     "iopub.status.busy": "2023-04-02T14:50:05.121901Z",
     "iopub.status.idle": "2023-04-02T14:50:05.127584Z",
     "shell.execute_reply": "2023-04-02T14:50:05.126604Z"
    },
    "papermill": {
     "duration": 0.018904,
     "end_time": "2023-04-02T14:50:05.130130",
     "exception": false,
     "start_time": "2023-04-02T14:50:05.111226",
     "status": "completed"
    },
    "tags": []
   },
   "outputs": [],
   "source": [
    "# y_pred = dummy_clf.predict(test_data)"
   ]
  },
  {
   "cell_type": "markdown",
   "id": "cc519ab6",
   "metadata": {
    "papermill": {
     "duration": 0.008359,
     "end_time": "2023-04-02T14:50:05.147378",
     "exception": false,
     "start_time": "2023-04-02T14:50:05.139019",
     "status": "completed"
    },
    "tags": []
   },
   "source": [
    "# Other Classifiers"
   ]
  },
  {
   "cell_type": "code",
   "execution_count": 23,
   "id": "eb7029e5",
   "metadata": {
    "execution": {
     "iopub.execute_input": "2023-04-02T14:50:05.167920Z",
     "iopub.status.busy": "2023-04-02T14:50:05.167090Z",
     "iopub.status.idle": "2023-04-02T14:50:05.377687Z",
     "shell.execute_reply": "2023-04-02T14:50:05.376547Z"
    },
    "papermill": {
     "duration": 0.224664,
     "end_time": "2023-04-02T14:50:05.380756",
     "exception": false,
     "start_time": "2023-04-02T14:50:05.156092",
     "status": "completed"
    },
    "tags": []
   },
   "outputs": [],
   "source": [
    "# sklearn imports\n",
    "\n",
    "from sklearn.linear_model import RidgeClassifier, LogisticRegression, SGDClassifier\n",
    "from sklearn.neighbors import KNeighborsClassifier\n",
    "from sklearn.svm import SVC\n",
    "from sklearn.neural_network import MLPClassifier, BernoulliRBM\n",
    "from sklearn.ensemble import AdaBoostClassifier, GradientBoostingClassifier, RandomForestClassifier\n",
    "from sklearn.ensemble import BaggingClassifier, VotingClassifier\n",
    "from sklearn.tree import DecisionTreeClassifier"
   ]
  },
  {
   "cell_type": "code",
   "execution_count": 24,
   "id": "d20c7fd5",
   "metadata": {
    "execution": {
     "iopub.execute_input": "2023-04-02T14:50:05.401606Z",
     "iopub.status.busy": "2023-04-02T14:50:05.401118Z",
     "iopub.status.idle": "2023-04-02T14:52:24.309343Z",
     "shell.execute_reply": "2023-04-02T14:52:24.307654Z"
    },
    "papermill": {
     "duration": 138.931414,
     "end_time": "2023-04-02T14:52:24.321510",
     "exception": false,
     "start_time": "2023-04-02T14:50:05.390096",
     "status": "completed"
    },
    "tags": []
   },
   "outputs": [
    {
     "data": {
      "text/plain": [
       "VotingClassifier(estimators=[('lr',\n",
       "                              LogisticRegression(random_state=0,\n",
       "                                                 solver='liblinear')),\n",
       "                             ('nn',\n",
       "                              MLPClassifier(activation='logistic',\n",
       "                                            learning_rate='adaptive',\n",
       "                                            solver='sgd')),\n",
       "                             ('ab',\n",
       "                              AdaBoostClassifier(base_estimator=LogisticRegression())),\n",
       "                             ('svc',\n",
       "                              SVC(degree=5, gamma='auto', kernel='sigmoid',\n",
       "                                  probability=True))],\n",
       "                 voting='soft')"
      ]
     },
     "execution_count": 24,
     "metadata": {},
     "output_type": "execute_result"
    }
   ],
   "source": [
    "est=[('lr', LogisticRegression(solver='liblinear',penalty='l2', random_state=0)),\n",
    "    ('nn', MLPClassifier(learning_rate='adaptive', activation='logistic', solver='sgd')),\n",
    "    ('ab', AdaBoostClassifier(base_estimator=LogisticRegression())),\n",
    "    ('svc', SVC(kernel='sigmoid', gamma='auto', degree=5, probability=True))]\n",
    "\n",
    "pipe = VotingClassifier(estimators = est, voting = 'soft')\n",
    "pipe.fit(traindata_trans, train_labels)"
   ]
  },
  {
   "cell_type": "code",
   "execution_count": 25,
   "id": "f4efd8b9",
   "metadata": {
    "execution": {
     "iopub.execute_input": "2023-04-02T14:52:24.342470Z",
     "iopub.status.busy": "2023-04-02T14:52:24.341983Z",
     "iopub.status.idle": "2023-04-02T14:52:28.274258Z",
     "shell.execute_reply": "2023-04-02T14:52:28.272596Z"
    },
    "papermill": {
     "duration": 3.946612,
     "end_time": "2023-04-02T14:52:28.277588",
     "exception": false,
     "start_time": "2023-04-02T14:52:24.330976",
     "status": "completed"
    },
    "tags": []
   },
   "outputs": [],
   "source": [
    "y_pred = pipe.predict(testdata_trans)"
   ]
  },
  {
   "cell_type": "code",
   "execution_count": 26,
   "id": "89354c41",
   "metadata": {
    "execution": {
     "iopub.execute_input": "2023-04-02T14:52:28.299610Z",
     "iopub.status.busy": "2023-04-02T14:52:28.298668Z",
     "iopub.status.idle": "2023-04-02T14:52:28.316066Z",
     "shell.execute_reply": "2023-04-02T14:52:28.314596Z"
    },
    "papermill": {
     "duration": 0.032033,
     "end_time": "2023-04-02T14:52:28.319123",
     "exception": false,
     "start_time": "2023-04-02T14:52:28.287090",
     "status": "completed"
    },
    "tags": []
   },
   "outputs": [],
   "source": [
    "submission = pd.DataFrame(columns = ['id','Made_Purchase'])\n",
    "    \n",
    "submission['id']=[i for i in range(len(y_pred))]\n",
    "submission['Made_Purchase']=y_pred"
   ]
  },
  {
   "cell_type": "code",
   "execution_count": 27,
   "id": "d29f5928",
   "metadata": {
    "execution": {
     "iopub.execute_input": "2023-04-02T14:52:28.339833Z",
     "iopub.status.busy": "2023-04-02T14:52:28.339365Z",
     "iopub.status.idle": "2023-04-02T14:52:28.352435Z",
     "shell.execute_reply": "2023-04-02T14:52:28.351429Z"
    },
    "papermill": {
     "duration": 0.026572,
     "end_time": "2023-04-02T14:52:28.354836",
     "exception": false,
     "start_time": "2023-04-02T14:52:28.328264",
     "status": "completed"
    },
    "tags": []
   },
   "outputs": [
    {
     "data": {
      "text/plain": [
       "False    5492\n",
       "True     1107\n",
       "Name: Made_Purchase, dtype: int64"
      ]
     },
     "execution_count": 27,
     "metadata": {},
     "output_type": "execute_result"
    }
   ],
   "source": [
    "submission['Made_Purchase'].value_counts()"
   ]
  },
  {
   "cell_type": "code",
   "execution_count": 28,
   "id": "0c48f640",
   "metadata": {
    "execution": {
     "iopub.execute_input": "2023-04-02T14:52:28.377122Z",
     "iopub.status.busy": "2023-04-02T14:52:28.376021Z",
     "iopub.status.idle": "2023-04-02T14:52:28.396096Z",
     "shell.execute_reply": "2023-04-02T14:52:28.394628Z"
    },
    "papermill": {
     "duration": 0.035191,
     "end_time": "2023-04-02T14:52:28.399383",
     "exception": false,
     "start_time": "2023-04-02T14:52:28.364192",
     "status": "completed"
    },
    "tags": []
   },
   "outputs": [],
   "source": [
    "submission.to_csv('submission.csv', index = False)"
   ]
  },
  {
   "cell_type": "code",
   "execution_count": null,
   "id": "483b59aa",
   "metadata": {
    "papermill": {
     "duration": 0.008579,
     "end_time": "2023-04-02T14:52:28.417131",
     "exception": false,
     "start_time": "2023-04-02T14:52:28.408552",
     "status": "completed"
    },
    "tags": []
   },
   "outputs": [],
   "source": []
  }
 ],
 "metadata": {
  "kernelspec": {
   "display_name": "Python 3",
   "language": "python",
   "name": "python3"
  },
  "language_info": {
   "codemirror_mode": {
    "name": "ipython",
    "version": 3
   },
   "file_extension": ".py",
   "mimetype": "text/x-python",
   "name": "python",
   "nbconvert_exporter": "python",
   "pygments_lexer": "ipython3",
   "version": "3.7.12"
  },
  "papermill": {
   "default_parameters": {},
   "duration": 163.107005,
   "end_time": "2023-04-02T14:52:29.657096",
   "environment_variables": {},
   "exception": null,
   "input_path": "__notebook__.ipynb",
   "output_path": "__notebook__.ipynb",
   "parameters": {},
   "start_time": "2023-04-02T14:49:46.550091",
   "version": "2.4.0"
  }
 },
 "nbformat": 4,
 "nbformat_minor": 5
}
